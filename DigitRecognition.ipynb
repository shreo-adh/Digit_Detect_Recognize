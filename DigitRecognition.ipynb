{
 "cells": [
  {
   "cell_type": "code",
   "execution_count": 1,
   "metadata": {},
   "outputs": [],
   "source": [
    "import cv2\n",
    "import numpy as np\n",
    "import tensorflow as tf\n",
    "from tensorflow.keras.datasets import mnist\n",
    "from tensorflow.keras.utils import to_categorical\n",
    "from tensorflow.keras.models import Sequential\n",
    "from tensorflow.keras.layers import Conv2D,MaxPooling2D,Flatten,Dense,Dropout"
   ]
  },
  {
   "cell_type": "code",
   "execution_count": 2,
   "metadata": {},
   "outputs": [],
   "source": [
    "(X_train,Y_train),(X_test,Y_test) = mnist.load_data()"
   ]
  },
  {
   "cell_type": "code",
   "execution_count": 3,
   "metadata": {},
   "outputs": [
    {
     "name": "stdout",
     "output_type": "stream",
     "text": [
      "(60000, 28, 28)\n",
      "(60000,)\n",
      "(10000, 28, 28)\n",
      "(10000,)\n"
     ]
    }
   ],
   "source": [
    "print(X_train.shape)\n",
    "print(Y_train.shape)\n",
    "print(X_test.shape)\n",
    "print(Y_test.shape)"
   ]
  },
  {
   "cell_type": "code",
   "execution_count": 4,
   "metadata": {},
   "outputs": [],
   "source": [
    "X_train = X_train.reshape(X_train.shape[0],X_train.shape[1],\n",
    "                          X_train.shape[2],1)\n",
    "X_test = X_test.reshape(X_test.shape[0],X_test.shape[1],\n",
    "                        X_test.shape[2],1)"
   ]
  },
  {
   "cell_type": "code",
   "execution_count": 5,
   "metadata": {},
   "outputs": [],
   "source": [
    "Y_train = to_categorical(Y_train)\n",
    "Y_test = to_categorical(Y_test)"
   ]
  },
  {
   "cell_type": "code",
   "execution_count": 6,
   "metadata": {},
   "outputs": [],
   "source": [
    "X_train = X_train.astype('float32')\n",
    "X_test = X_test.astype('float32')\n",
    "X_train/= 255.0\n",
    "X_test/=255.0"
   ]
  },
  {
   "cell_type": "code",
   "execution_count": 7,
   "metadata": {},
   "outputs": [],
   "source": [
    "model = Sequential()\n",
    "model.add(Conv2D(32,(3,3),activation='relu',input_shape=(28,28,1)))\n",
    "model.add(Conv2D(32,(3,3),activation='relu'))\n",
    "model.add(MaxPooling2D(2,2))\n",
    "model.add(Dropout(0.2))\n",
    "\n",
    "model.add(Conv2D(64,(3,3),activation='relu'))\n",
    "model.add(MaxPooling2D(2,2))\n",
    "model.add(Flatten())\n",
    "model.add(Dropout(0.5))\n",
    "model.add(Dense(512,activation='relu'))\n",
    "model.add(Dense(32,activation='relu'))\n",
    "model.add(Dense(10,activation='softmax'))"
   ]
  },
  {
   "cell_type": "code",
   "execution_count": 8,
   "metadata": {},
   "outputs": [],
   "source": [
    "model.compile(optimizer='adam' , \n",
    "              loss ='categorical_crossentropy',\n",
    "              metrics =['accuracy'])"
   ]
  },
  {
   "cell_type": "code",
   "execution_count": 9,
   "metadata": {},
   "outputs": [],
   "source": [
    "class myCallback(tf.keras.callbacks.Callback):\n",
    "    def on_epoch_end(self, epoch, logs={}):\n",
    "        print(logs.get('accuracy'))\n",
    "        if(logs.get('accuracy')>=0.992):\n",
    "            print(\"\\nReached 99.2% accuracy so cancelling training!\")\n",
    "            self.model.stop_training = True\n",
    "        \n",
    "callbacks = myCallback()"
   ]
  },
  {
   "cell_type": "code",
   "execution_count": 10,
   "metadata": {},
   "outputs": [
    {
     "name": "stdout",
     "output_type": "stream",
     "text": [
      "Train on 60000 samples, validate on 10000 samples\n",
      "Epoch 1/15\n",
      "59936/60000 [============================>.] - ETA: 0s - loss: 0.1675 - accuracy: 0.94690.94695\n",
      "60000/60000 [==============================] - 68s 1ms/sample - loss: 0.1674 - accuracy: 0.9470 - val_loss: 0.0377 - val_accuracy: 0.9878\n",
      "Epoch 2/15\n",
      "59936/60000 [============================>.] - ETA: 0s - loss: 0.0636 - accuracy: 0.98100.9809833\n",
      "60000/60000 [==============================] - 65s 1ms/sample - loss: 0.0636 - accuracy: 0.9810 - val_loss: 0.0290 - val_accuracy: 0.9911\n",
      "Epoch 3/15\n",
      "59936/60000 [============================>.] - ETA: 0s - loss: 0.0512 - accuracy: 0.98390.9838833\n",
      "60000/60000 [==============================] - 65s 1ms/sample - loss: 0.0512 - accuracy: 0.9839 - val_loss: 0.0299 - val_accuracy: 0.9908\n",
      "Epoch 4/15\n",
      "59936/60000 [============================>.] - ETA: 0s - loss: 0.0420 - accuracy: 0.98720.98715\n",
      "60000/60000 [==============================] - 65s 1ms/sample - loss: 0.0420 - accuracy: 0.9872 - val_loss: 0.0235 - val_accuracy: 0.9933\n",
      "Epoch 5/15\n",
      "59936/60000 [============================>.] - ETA: 0s - loss: 0.0367 - accuracy: 0.98900.98901665\n",
      "60000/60000 [==============================] - 66s 1ms/sample - loss: 0.0367 - accuracy: 0.9890 - val_loss: 0.0284 - val_accuracy: 0.9913\n",
      "Epoch 6/15\n",
      "59936/60000 [============================>.] - ETA: 0s - loss: 0.0329 - accuracy: 0.98960.9896333\n",
      "60000/60000 [==============================] - 66s 1ms/sample - loss: 0.0328 - accuracy: 0.9896 - val_loss: 0.0264 - val_accuracy: 0.9925\n",
      "Epoch 7/15\n",
      "59936/60000 [============================>.] - ETA: 0s - loss: 0.0302 - accuracy: 0.99090.99088335\n",
      "60000/60000 [==============================] - 66s 1ms/sample - loss: 0.0302 - accuracy: 0.9909 - val_loss: 0.0214 - val_accuracy: 0.9946\n",
      "Epoch 8/15\n",
      "59936/60000 [============================>.] - ETA: 0s - loss: 0.0276 - accuracy: 0.99160.9916\n",
      "60000/60000 [==============================] - 65s 1ms/sample - loss: 0.0276 - accuracy: 0.9916 - val_loss: 0.0211 - val_accuracy: 0.9928\n",
      "Epoch 9/15\n",
      "59936/60000 [============================>.] - ETA: 0s - loss: 0.0256 - accuracy: 0.99220.99215\n",
      "\n",
      "Reached 99.3% accuracy so cancelling training!\n",
      "60000/60000 [==============================] - 66s 1ms/sample - loss: 0.0256 - accuracy: 0.9922 - val_loss: 0.0214 - val_accuracy: 0.9939\n"
     ]
    }
   ],
   "source": [
    "history = model.fit(X_train,Y_train, epochs = 15, \n",
    "                    validation_data=(X_test,Y_test),\n",
    "                    callbacks = [callbacks])"
   ]
  },
  {
   "cell_type": "code",
   "execution_count": 11,
   "metadata": {},
   "outputs": [
    {
     "data": {
      "text/plain": [
       "-1"
      ]
     },
     "execution_count": 11,
     "metadata": {},
     "output_type": "execute_result"
    }
   ],
   "source": [
    "def prepImg(data):\n",
    "    return cv2.resize(data,(28,28)).reshape(28,28,1)/255.0\n",
    "\n",
    "img = cv2.imread(\"photo_new.jpg\")\n",
    "gray = cv2.cvtColor(img,cv2.COLOR_BGR2GRAY)\n",
    "blur = cv2.GaussianBlur(gray, (5,5) , 0)\n",
    "ret , im_th = cv2.threshold(blur, 180 , 400 , cv2.THRESH_BINARY_INV)\n",
    "ctrs , hier = cv2.findContours(im_th.copy(),cv2.RETR_EXTERNAL, cv2.CHAIN_APPROX_SIMPLE)\n",
    "rects = [cv2.boundingRect(ctr) for ctr in ctrs]\n",
    "\n",
    "cv2.imshow('Threshhold',im_th)\n",
    "cv2.waitKey(0)"
   ]
  },
  {
   "cell_type": "code",
   "execution_count": 12,
   "metadata": {},
   "outputs": [],
   "source": [
    "from tensorflow.keras.preprocessing.image import img_to_array\n",
    "for x,y,w,h in rects :\n",
    "    \n",
    "    if y>=3:\n",
    "        y-=3\n",
    "    else :\n",
    "        y=0\n",
    "    if x>=3:\n",
    "        x-=3\n",
    "    else:\n",
    "        x=0\n",
    "    w+=3\n",
    "    h+=3\n",
    "    cv2.rectangle(img,(x,y),(x+w,y+h),(0,255,0),2)\n",
    "    sliced = im_th[y:y+h,x:x+w]\n",
    "    sliced = img_to_array(sliced,dtype='float32')\n",
    "    sliced = prepImg(sliced)\n",
    "    sliced = np.expand_dims(sliced , axis = 0)\n",
    "    prediction = model.predict_classes(sliced)\n",
    "    cv2.putText(img, str(prediction[0]), (x+w,y+int(h/2)), cv2.FONT_HERSHEY_SIMPLEX ,  1, (0,255,0) , 2, cv2.LINE_AA) \n",
    "cv2.imshow(\"IMAGE\",img)\n",
    "cv2.waitKey(0)\n",
    "cv2.destroyAllWindows()"
   ]
  },
  {
   "cell_type": "code",
   "execution_count": null,
   "metadata": {},
   "outputs": [],
   "source": []
  }
 ],
 "metadata": {
  "kernelspec": {
   "display_name": "Python 3",
   "language": "python",
   "name": "python3"
  },
  "language_info": {
   "codemirror_mode": {
    "name": "ipython",
    "version": 3
   },
   "file_extension": ".py",
   "mimetype": "text/x-python",
   "name": "python",
   "nbconvert_exporter": "python",
   "pygments_lexer": "ipython3",
   "version": "3.7.7"
  }
 },
 "nbformat": 4,
 "nbformat_minor": 4
}
